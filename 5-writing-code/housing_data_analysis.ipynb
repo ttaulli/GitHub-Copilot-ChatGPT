{
 "cells": [
  {
   "cell_type": "markdown",
   "id": "723151c9",
   "metadata": {},
   "source": [
    "# Import Required Libraries\n",
    "We will use pandas to handle and display the housing data."
   ]
  },
  {
   "cell_type": "code",
   "execution_count": null,
   "id": "20e7f99c",
   "metadata": {},
   "outputs": [],
   "source": [
    "import pandas as pd"
   ]
  },
  {
   "cell_type": "markdown",
   "id": "68182a91",
   "metadata": {},
   "source": [
    "# Load the housing.csv File\n",
    "Read the housing data from the CSV file into a pandas DataFrame."
   ]
  },
  {
   "cell_type": "code",
   "execution_count": null,
   "id": "6f0e0f24",
   "metadata": {},
   "outputs": [],
   "source": [
    "# Load the housing.csv file into a DataFrame\n",
    "housing_df = pd.read_csv('housing.csv')"
   ]
  },
  {
   "cell_type": "markdown",
   "id": "3df4f6cc",
   "metadata": {},
   "source": [
    "# Display the Housing Data as a Table\n",
    "View the loaded housing data as a table."
   ]
  },
  {
   "cell_type": "code",
   "execution_count": null,
   "id": "4effbeea",
   "metadata": {},
   "outputs": [],
   "source": [
    "# Display the DataFrame as a table\n",
    "housing_df"
   ]
  }
 ],
 "metadata": {
  "kernelspec": {
   "display_name": "base",
   "language": "python",
   "name": "python3"
  },
  "language_info": {
   "name": "python",
   "version": "3.12.4"
  }
 },
 "nbformat": 4,
 "nbformat_minor": 5
}
